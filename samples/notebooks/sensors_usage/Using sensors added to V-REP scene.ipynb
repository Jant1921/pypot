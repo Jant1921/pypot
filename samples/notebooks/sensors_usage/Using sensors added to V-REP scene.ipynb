{
 "cells": [
  {
   "cell_type": "code",
   "execution_count": null,
   "metadata": {},
   "outputs": [],
   "source": [
    "from os.path import abspath\n",
    "from pypot.creatures import PoppyTorso\n",
    "\n",
    "scene_path = abspath('./vrep-sensors/torso_sensors_scene.ttt')\n",
    "config_path = abspath('./vrep-sensors/torso_vrep_sensors_config.json')\n",
    "poppy = PoppyTorso(simulator='vrep', scene=scene_path, config=config_path)"
   ]
  },
  {
   "cell_type": "code",
   "execution_count": null,
   "metadata": {},
   "outputs": [],
   "source": [
    "# list of loaded sensors\n",
    "[sensor.name for sensor in poppy.sensors]"
   ]
  },
  {
   "cell_type": "code",
   "execution_count": null,
   "metadata": {},
   "outputs": [],
   "source": [
    "#using a floating vision sensor (floating_camera)\n",
    "%pylab inline \n",
    "# Display the frame from floating_camera\n",
    "axis('off')\n",
    "imshow(poppy.floating_camera.frame[:,:,::-1])\n",
    "\n",
    "print \"FPS: \" + str(poppy.floating_camera.fps)\n",
    "res_x, res_y = poppy.floating_camera.resolution\n",
    "print \"Resolution: \" + str(res_x) + \"x\" + str(res_y)"
   ]
  },
  {
   "cell_type": "code",
   "execution_count": null,
   "metadata": {},
   "outputs": [],
   "source": [
    "#using a vision sensor on Poppy's head(Vision_sensor)\n",
    "%pylab inline \n",
    "# Display the frame from Vision_sensor\n",
    "axis('off')\n",
    "imshow(poppy.Vision_sensor.frame[:,:,::-1])\n",
    "\n",
    "print \"FPS: \" + str(poppy.Vision_sensor.fps)\n",
    "res_x, res_y = poppy.Vision_sensor.resolution\n",
    "print \"Resolution: \" + str(res_x) + \"x\" + str(res_y)"
   ]
  },
  {
   "cell_type": "code",
   "execution_count": null,
   "metadata": {},
   "outputs": [],
   "source": [
    "# reading the proximity sensor\n",
    "(is_object_in_range,\n",
    " detected_point,\n",
    " detected_object_handle,\n",
    " detected_surface_normal_vector) = poppy.Proximity_sensor.scan()\n",
    "\n",
    "print \"Something detected: {}\".format(is_object_in_range)"
   ]
  },
  {
   "cell_type": "code",
   "execution_count": null,
   "metadata": {},
   "outputs": [],
   "source": [
    "# move the arm to the detection range of the sensor\n",
    "poppy.r_shoulder_y.goto_position(-50, 0.5, wait=False)\n",
    "poppy.r_shoulder_x.goto_position(0, 0.5, wait=False)\n",
    "poppy.r_arm_z.goto_position(20, 0.5, wait=False)\n",
    "poppy.r_elbow_y.goto_position(0, 0.5, wait=True)\n",
    "\n",
    "# reading the proximity sensor\n",
    "(is_object_in_range,\n",
    " detected_point,\n",
    " detected_object_handle,\n",
    " detected_surface_normal_vector) = poppy.Proximity_sensor.scan()\n",
    "\n",
    "print \"Something detected: {}, at {}, handle {}, surface {}\".format(is_object_in_range,\n",
    " detected_point,\n",
    " detected_object_handle,\n",
    " detected_surface_normal_vector)"
   ]
  },
  {
   "cell_type": "code",
   "execution_count": null,
   "metadata": {},
   "outputs": [],
   "source": [
    "# stop the simulation and close vrep connection\n",
    "poppy.stop_and_close_simulation()\n"
   ]
  },
  {
   "cell_type": "code",
   "execution_count": null,
   "metadata": {},
   "outputs": [],
   "source": []
  }
 ],
 "metadata": {
  "kernelspec": {
   "display_name": "Python 2",
   "language": "python",
   "name": "python2"
  },
  "language_info": {
   "codemirror_mode": {
    "name": "ipython",
    "version": 2
   },
   "file_extension": ".py",
   "mimetype": "text/x-python",
   "name": "python",
   "nbconvert_exporter": "python",
   "pygments_lexer": "ipython2",
   "version": "2.7.14"
  }
 },
 "nbformat": 4,
 "nbformat_minor": 2
}
